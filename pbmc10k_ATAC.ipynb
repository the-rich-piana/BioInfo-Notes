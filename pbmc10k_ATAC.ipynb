{
 "cells": [
  {
   "cell_type": "markdown",
   "metadata": {},
   "source": [
    "<h1 style=\"color:#ff9966\"> scRNA-seq and scATAC-seq Integration </h1>\n",
    "\n",
    "<h3> Analysis of 10k peripheral blood mononuclear cells (PBMCs) using gene expression counts and euchromatin counts. </h3>\n",
    "\n",
    "<a href=\"https://muon-tutorials.readthedocs.io/en/latest/single-cell-rna-atac/index.html\" >Muon Documentation  </a>\n",
    "\n",
    "<h4> Joint Data from 10X Genomics: </h4>\n",
    "<a href=\"https://cf.10xgenomics.com/samples/cell-arc/1.0.0/pbmc_granulocyte_sorted_10k/pbmc_granulocyte_sorted_10k_web_summary.html\" >From 10X Genomics Database  </a>\n",
    "\n",
    "Estimated number of cells: <h3 style=\"color:#ECF87F\"> 11,909 </h3>\n"
   ]
  },
  {
   "cell_type": "code",
   "execution_count": null,
   "metadata": {},
   "outputs": [
    {
     "name": "stderr",
     "output_type": "stream",
     "text": [
      "/home/gugu/mambaforge/envs/bioinfo/lib/python3.10/site-packages/tqdm/auto.py:22: TqdmWarning: IProgress not found. Please update jupyter and ipywidgets. See https://ipywidgets.readthedocs.io/en/stable/user_install.html\n",
      "  from .autonotebook import tqdm as notebook_tqdm\n"
     ]
    }
   ],
   "source": [
    "import anndata as ad\n",
    "import pandas as pd\n",
    "import numpy as np\n",
    "import muon as mu\n",
    "import scanpy as sc\n",
    "\n",
    "from muon import atac as ac\n",
    "import os\n"
   ]
  },
  {
   "cell_type": "code",
   "execution_count": null,
   "metadata": {},
   "outputs": [],
   "source": [
    "data_dir = \"data/pbmc10k\"\n",
    "sc.settings.verbosity = 3             # verbosity: errors (0), warnings (1), info (2), hints (3)\n"
   ]
  },
  {
   "cell_type": "code",
   "execution_count": null,
   "metadata": {},
   "outputs": [],
   "source": [
    "# Remove file prefixes if any\n",
    "prefix = \"pbmc_granulocyte_sorted_10k_\"\n",
    "for file in os.listdir(data_dir):\n",
    "    if file.startswith(prefix):\n",
    "        new_filename = file[len(prefix):]\n",
    "        os.rename(os.path.join(data_dir, file), os.path.join(data_dir, new_filename))"
   ]
  },
  {
   "cell_type": "code",
   "execution_count": null,
   "metadata": {},
   "outputs": [],
   "source": [
    "\n",
    "mdata = mu.read_10x_h5(os.path.join(data_dir, \"filtered_feature_bc_matrix.h5\"))  \n",
    "\n",
    "#Not \n",
    "\n",
    "mdata.var_names_make_unique()\n",
    "mdata\n"
   ]
  },
  {
   "cell_type": "markdown",
   "metadata": {},
   "source": [
    "<h2 style=\"color:#ff9966\"> 1.1 scRNAseq Analysis</h2>\n"
   ]
  },
  {
   "cell_type": "code",
   "execution_count": null,
   "metadata": {},
   "outputs": [],
   "source": [
    "rna = mdata.mod['rna']\n",
    "rna"
   ]
  },
  {
   "cell_type": "code",
   "execution_count": null,
   "metadata": {},
   "outputs": [],
   "source": [
    "rna.var['mt'] = rna.var_names.str.startswith('MT-')\n",
    "print('Mitochondrial genes: \\n ')\n",
    "\n",
    "print(rna.var[rna.var['mt'] == True])\n",
    "#List of mitochondrial genes. \n",
    "\n",
    "sc.pp.calculate_qc_metrics(rna, qc_vars=['mt'], percent_top=None, inplace=True)\n",
    "sc.pl.violin(rna,  ['n_genes_by_counts', 'total_counts', 'pct_counts_mt'], jitter=0.4, multi_panel=True)"
   ]
  },
  {
   "cell_type": "code",
   "execution_count": null,
   "metadata": {},
   "outputs": [],
   "source": [
    "mu.pp.filter_var(rna, 'n_cells_by_counts', lambda x: x >= 3)"
   ]
  },
  {
   "cell_type": "markdown",
   "metadata": {},
   "source": [
    "<h3>Quality Control of RNA</h3>"
   ]
  },
  {
   "cell_type": "code",
   "execution_count": null,
   "metadata": {},
   "outputs": [],
   "source": [
    "mu.pp.filter_obs(rna, 'n_genes_by_counts', lambda x: (x >= 200) & (x < 5000))\n",
    "\n",
    "mu.pp.filter_obs(rna, 'total_counts', lambda x: x < 15000)\n",
    "mu.pp.filter_obs(rna, 'pct_counts_mt', lambda x : x < 20)"
   ]
  },
  {
   "cell_type": "code",
   "execution_count": null,
   "metadata": {},
   "outputs": [],
   "source": [
    "sc.pl.violin(rna,  ['n_genes_by_counts', 'total_counts', 'pct_counts_mt'], jitter=0.4, multi_panel=True)"
   ]
  },
  {
   "cell_type": "markdown",
   "metadata": {},
   "source": [
    "<h3> Normalisation </h3>\n",
    "Fit mRNA counts to a Counts Per Million normalization. Still includes mtRNA because we haven't filtered that out.\n",
    "<hr style=\"color:#ff9966\">\n"
   ]
  },
  {
   "cell_type": "code",
   "execution_count": null,
   "metadata": {},
   "outputs": [],
   "source": [
    "sc.pp.normalize_total(rna, target_sum=10000) #CPM normilization, 1e4\n",
    "\n",
    "sc.pp.log1p(rna)"
   ]
  },
  {
   "cell_type": "markdown",
   "metadata": {},
   "source": [
    "<h3> Feature Selection </h3>\n",
    "Select/Annotate HVGs\n",
    "<hr style=\"color:#ff9966\">\n"
   ]
  },
  {
   "cell_type": "code",
   "execution_count": null,
   "metadata": {},
   "outputs": [],
   "source": [
    "sc.pp.highly_variable_genes(rna, min_mean=0.02, max_mean=4, min_disp=0.5)\n",
    "#Annotates HVGs, genes that are correlated with high cell-to-cell variation in terms of RNA.\n",
    "#Variance needs to be stabilized prior to selection of genes. Since scRNA has strong mean-variance relationship\n",
    "#\n",
    "sc.pl.highly_variable_genes(rna)"
   ]
  },
  {
   "cell_type": "code",
   "execution_count": null,
   "metadata": {},
   "outputs": [],
   "source": [
    "np.sum(rna.var.highly_variable)"
   ]
  },
  {
   "cell_type": "markdown",
   "metadata": {},
   "source": [
    "<h3 style=\"color:#ff9966\">Scaling</h3>\n",
    "<hr style=\"color:#ff9966\">\n",
    "\n"
   ]
  },
  {
   "cell_type": "code",
   "execution_count": null,
   "metadata": {},
   "outputs": [],
   "source": [
    "rna.raw = rna \n",
    "\n",
    "#Scale the log-normalised counts in a .raw slot\n",
    "\n",
    "#Scale the log-normd RNA counts to have a 0 mean and 0 unit variance\n",
    "sc.pp.scale(rna, max_value=10)"
   ]
  },
  {
   "cell_type": "markdown",
   "metadata": {},
   "source": [
    "<h2 style=\"color:#ff9966\">Analysis</h2>\n",
    "<hr style=\"color:#ff9966\">\n",
    "\n",
    "Having filtered low-quality cells, normalised the counts matrix, and performed feature selection, we can already use this data for multimodal integration (ATACseq).\n",
    "However it is usually a good idea to study individual modalities as well. Below we run:\n",
    "-  PCA on the scaled matrix,\n",
    "-  Compute cell neighbourhood graph\n",
    "-  Perform clustering to define cell types.\n"
   ]
  },
  {
   "cell_type": "markdown",
   "metadata": {},
   "source": [
    "<h3 style=\"color:#ff9966\"> - PCA and Neighborhood Graph</h3>\n",
    "\n",
    "We expect to see T cells and NK cells (CD2), B cells (CD79A), and KLF4 (monocytes).\n",
    "So we'll use those markers in the PCA.\n",
    "\n",
    "<img style=\"background:white\" src=\"https://upload.wikimedia.org/wikipedia/commons/thumb/f/f0/Hematopoiesis_simple.svg/1280px-Hematopoiesis_simple.svg.png\"  height=600 />"
   ]
  },
  {
   "cell_type": "code",
   "execution_count": null,
   "metadata": {},
   "outputs": [],
   "source": [
    "sc.tl.pca(rna, svd_solver='arpack')"
   ]
  },
  {
   "cell_type": "code",
   "execution_count": null,
   "metadata": {},
   "outputs": [],
   "source": [
    "sc.pl.pca(rna, color=['CD2', 'CD79A', 'KLF4', 'IRF8'])"
   ]
  },
  {
   "cell_type": "code",
   "execution_count": null,
   "metadata": {},
   "outputs": [],
   "source": [
    "sc.pl.pca_variance_ratio(rna, log=True)"
   ]
  },
  {
   "cell_type": "code",
   "execution_count": null,
   "metadata": {},
   "outputs": [],
   "source": [
    "sc.pp.neighbors(rna, n_neighbors=10, n_pcs=20)"
   ]
  },
  {
   "cell_type": "code",
   "execution_count": null,
   "metadata": {},
   "outputs": [],
   "source": [
    "sc.tl.leiden(rna, resolution=.5)\n",
    "sc.tl.umap(rna, spread=1., min_dist=.5, random_state=11)\n",
    "sc.pl.umap(rna, color=\"leiden\", legend_loc=\"on data\")"
   ]
  },
  {
   "cell_type": "markdown",
   "metadata": {},
   "source": [
    "<h3 style=\"color:#ff9966\"> - Marker Genes and Celltypes</h3>"
   ]
  },
  {
   "cell_type": "code",
   "execution_count": null,
   "metadata": {},
   "outputs": [],
   "source": [
    "sc.tl.rank_genes_groups(rna, 'leiden', method='t-test')"
   ]
  },
  {
   "cell_type": "code",
   "execution_count": null,
   "metadata": {},
   "outputs": [],
   "source": [
    "result = rna.uns['rank_genes_groups']\n",
    "\n",
    "groups = result['names'].dtype.names\n",
    "\n",
    "pd.set_option('display.max_columns', 50)\n",
    "pd.DataFrame(\n",
    "{group + '_' + key[:1]: result[key][group]\n",
    "for group in groups for key in ['names', 'pvals']}).head(10)"
   ]
  },
  {
   "cell_type": "code",
   "execution_count": null,
   "metadata": {},
   "outputs": [],
   "source": [
    "sc.pl.rank_genes_groups(rna, n_genes=20, sharey=False)"
   ]
  },
  {
   "cell_type": "code",
   "execution_count": null,
   "metadata": {},
   "outputs": [],
   "source": [
    "mu.pp.filter_obs(rna, \"leiden\", lambda x: ~x.isin([\"9\", \"15\", \"12\", \"16\"]))"
   ]
  },
  {
   "cell_type": "code",
   "execution_count": null,
   "metadata": {},
   "outputs": [],
   "source": [
    "new_cluster_names = {\n",
    "\"0\": \"CD4+ memory T\", \"1\": \"CD8+ naïve T\", \"3\": \"CD4+ naïve T\",\n",
    "\"5\": \"CD8+ activated T\", \"7\": \"NK\", \"13\": \"MAIT\",\n",
    "\"6\": \"memory B\", \"10\": \"naïve B\",\n",
    "\"4\": \"CD14 mono\", \"2\": \"intermediate mono\", \"8\": \"CD16 mono\",\n",
    "\"11\": \"mDC\", \"14\": \"pDC\",\n",
    "}\n",
    "\n",
    "rna.obs['celltype'] = rna.obs.leiden.astype(\"str\").values"
   ]
  },
  {
   "cell_type": "code",
   "execution_count": null,
   "metadata": {},
   "outputs": [],
   "source": [
    "rna.obs.celltype = rna.obs.celltype.astype(\"category\")\n",
    "rna.obs.celltype = rna.obs.celltype.cat.rename_categories(new_cluster_names)"
   ]
  },
  {
   "cell_type": "code",
   "execution_count": null,
   "metadata": {},
   "outputs": [],
   "source": [
    "rna.obs.celltype.cat.reorder_categories([\n",
    "'CD4+ naïve T', 'CD4+ memory T', 'MAIT',\n",
    "'CD8+ naïve T', 'CD8+ activated T', 'NK',\n",
    "'naïve B', 'memory B',\n",
    "'CD14 mono', 'intermediate mono', 'CD16 mono',\n",
    "'mDC', 'pDC'], inplace=True)"
   ]
  },
  {
   "cell_type": "code",
   "execution_count": null,
   "metadata": {},
   "outputs": [],
   "source": [
    "import matplotlib\n",
    "import matplotlib.pyplot as plt\n",
    "cmap = plt.get_cmap('rainbow')\n",
    "colors = cmap(np.linspace(0, 1, len(rna.obs.celltype.cat.categories)))\n",
    "rna.uns[\"celltype_colors\"] = list(map(matplotlib.colors.to_hex, colors))"
   ]
  },
  {
   "cell_type": "code",
   "execution_count": null,
   "metadata": {},
   "outputs": [],
   "source": [
    "sc.pl.umap(rna, color=\"celltype\", legend_loc=\"on data\")"
   ]
  },
  {
   "cell_type": "code",
   "execution_count": null,
   "metadata": {},
   "outputs": [],
   "source": [
    "marker_genes = ['IL7R', 'TRAC',\n",
    "'ITGB1', # CD29\n",
    "'SLC4A10',\n",
    "'CD8A', 'CD8B', 'CCL5',\n",
    "'GNLY', 'NKG7',\n",
    "'CD79A', 'MS4A1', 'IGHM', 'IGHD',\n",
    "'IL4R', 'TCL1A',\n",
    "'KLF4', 'LYZ', 'S100A8', 'ITGAM', # CD11b\n",
    "'CD14', 'FCGR3A', 'MS4A7',\n",
    "'CST3', 'CLEC10A', 'IRF8', 'TCF4']"
   ]
  },
  {
   "cell_type": "code",
   "execution_count": null,
   "metadata": {},
   "outputs": [],
   "source": [
    "\n",
    "mdata.write(\"data/pbmc10k.h5mu\")\n",
    "#Read until page 49"
   ]
  },
  {
   "cell_type": "markdown",
   "metadata": {},
   "source": [
    "<h2 style=\"color:#ff9966\">1.2 Chromatin Accessability Processing</h2>\n",
    "<hr style=\"color:#ff9966\">\n",
    "\n",
    "Here we'll use our 10K pbmc scATACseq dataset and perform similar processing to the scRNA-seq one.  Then, we can look into transferring labels and \n"
   ]
  },
  {
   "cell_type": "code",
   "execution_count": null,
   "metadata": {},
   "outputs": [],
   "source": [
    "mdata = mu.read(\"data/pbmc10k.h5mu\")\n",
    "mdata\n",
    "atac = mdata.mod['atac']\n",
    "atac\n",
    "#atac\n",
    "#variables: Gene IDs, Feature Types, Genome, Interval\n",
    "#Unstructured Annotations: ATAC data"
   ]
  },
  {
   "cell_type": "markdown",
   "metadata": {},
   "source": [
    "<h3 style=\"color:#ff9966\">Quality Control</h3>\n",
    "\n",
    "Note: A gene in the context of ATAC here should be thought of as a peak in chromatin accessability.\n",
    "So the matrix is essentially a matrix of cells x peak counts\n"
   ]
  },
  {
   "cell_type": "code",
   "execution_count": null,
   "metadata": {},
   "outputs": [],
   "source": [
    "sc.pp.calculate_qc_metrics(atac, inplace=True, log1p=False, percent_top=None)"
   ]
  },
  {
   "cell_type": "code",
   "execution_count": null,
   "metadata": {},
   "outputs": [],
   "source": [
    "sc.pl.violin(atac, ['total_counts', 'n_genes_by_counts'], jitter=0.4, size=1.5, multi_panel=True)"
   ]
  },
  {
   "cell_type": "code",
   "execution_count": null,
   "metadata": {},
   "outputs": [],
   "source": [
    "mu.pp.filter_var(atac, 'n_cells_by_counts', lambda x: x >= 10)  "
   ]
  },
  {
   "cell_type": "code",
   "execution_count": null,
   "metadata": {},
   "outputs": [],
   "source": [
    "mu.pp.filter_obs(atac, 'n_genes_by_counts', lambda x: (x >= 2000) & (x <= 15000))\n",
    "# This is analogous to\n",
    "# sc.pp.filter_cells(atac, max_genes=15000)\n",
    "# sc.pp.filter_cells(atac, min_genes=2000)\n",
    "# but does in-place filtering avoiding copying the object\n",
    "mu.pp.filter_obs(atac, 'total_counts', lambda x: (x >= 4000) & (x <= 40000))"
   ]
  },
  {
   "cell_type": "code",
   "execution_count": null,
   "metadata": {},
   "outputs": [],
   "source": [
    "sc.pl.violin(atac, ['n_genes_by_counts', 'total_counts'], jitter=0.4, multi_panel=True, size=0.6)"
   ]
  },
  {
   "cell_type": "code",
   "execution_count": null,
   "metadata": {},
   "outputs": [],
   "source": [
    "mu.pl.histogram(atac, ['n_genes_by_counts', 'total_counts'])"
   ]
  },
  {
   "cell_type": "code",
   "execution_count": null,
   "metadata": {},
   "outputs": [],
   "source": [
    "atac.obs['NS'] = 1 \n",
    "ac.pl.fragment_histogram(atac, region='chr1:1-2000000')"
   ]
  },
  {
   "cell_type": "code",
   "execution_count": null,
   "metadata": {},
   "outputs": [],
   "source": []
  },
  {
   "cell_type": "markdown",
   "metadata": {},
   "source": [
    "<h2 style=\"color:#ff9966\">1.3 Integrating GEX and Chromatin Accessability</h2>\n",
    "<hr style=\"color:#ff9966\">\n",
    "\n",
    "Here we integrate our two omics (From 1.1 and 1.2) using multi-omic factor analysis (MOFA). This requires training a MOFA model."
   ]
  },
  {
   "cell_type": "code",
   "execution_count": null,
   "metadata": {},
   "outputs": [],
   "source": [
    "mu.pp.intersect_obs(mdata)\n"
   ]
  },
  {
   "cell_type": "code",
   "execution_count": null,
   "metadata": {},
   "outputs": [],
   "source": [
    "mdata.shape"
   ]
  },
  {
   "cell_type": "code",
   "execution_count": null,
   "metadata": {},
   "outputs": [],
   "source": [
    "from sklearn.metrics import adjusted_rand_score as ari\n",
    "ari(mdata.obs['rna:celltype'], mdata.obs['rna:celltype'])"
   ]
  },
  {
   "cell_type": "code",
   "execution_count": null,
   "metadata": {},
   "outputs": [],
   "source": []
  }
 ],
 "metadata": {
  "kernelspec": {
   "display_name": "Python 3 (ipykernel)",
   "language": "python",
   "name": "python3"
  },
  "language_info": {
   "codemirror_mode": {
    "name": "ipython",
    "version": 3
   },
   "file_extension": ".py",
   "mimetype": "text/x-python",
   "name": "python",
   "nbconvert_exporter": "python",
   "pygments_lexer": "ipython3",
   "version": "3.10.5"
  },
  "vscode": {
   "interpreter": {
    "hash": "2d8eb5f0b2d1a671b125662acba05eb56e47a909e2cbb43cb4ed44d16297229b"
   }
  }
 },
 "nbformat": 4,
 "nbformat_minor": 4
}
